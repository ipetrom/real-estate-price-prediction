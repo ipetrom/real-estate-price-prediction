{
 "cells": [
  {
   "cell_type": "markdown",
   "metadata": {},
   "source": [
    "# Geocoding\n",
    "This script is used to search the latitude and longitude of our data based on addresses."
   ]
  },
  {
   "cell_type": "code",
   "execution_count": null,
   "metadata": {
    "trusted": true
   },
   "outputs": [],
   "source": [
    "import pandas as pd\n",
    "from geopy.geocoders import Nominatim\n",
    "from geopy.exc import GeocoderTimedOut\n",
    "import requests\n",
    "import time"
   ]
  },
  {
   "cell_type": "code",
   "execution_count": null,
   "metadata": {
    "trusted": true
   },
   "outputs": [],
   "source": [
    "# Function to get coordinates using Nominatim (from OpenStreetMap)\n",
    "def get_coordinates_nominatim(address, geolocator, retries=3):\n",
    "    for _ in range(retries):  \n",
    "        try:\n",
    "            location = geolocator.geocode(address, timeout=10)  # Geocode the address\n",
    "            if location:  \n",
    "                return location.latitude, location.longitude\n",
    "        except GeocoderTimedOut:\n",
    "            time.sleep(1)  \n",
    "    return None, None  # Return None if no location is found after retries\n",
    "\n",
    "# Function to get coordinates using LocationIQ API\n",
    "def get_coordinates_locationiq(address):\n",
    "    url = f'https://locationiq.org/v1/search.php?key=public&format=json&q={address}'  # Construct the URL with the address\n",
    "    try:\n",
    "        response = requests.get(url).json()  # Make the request to LocationIQ API\n",
    "        if response:  \n",
    "            return float(response[0]['lat']), float(response[0]['lon'])  # Return the latitude and longitude\n",
    "    except Exception:\n",
    "        return None, None  # Return None in case of an error\n",
    "    return None, None  # Return None if no response\n",
    "\n",
    "# Function to get coordinates using Geocode.xyz API\n",
    "def get_coordinates_geocode_xyz(address):\n",
    "    url = f'https://geocode.xyz/{address}?json=1'  # Construct the URL for Geocode.xyz API\n",
    "    try:\n",
    "        response = requests.get(url).json()  # Make the request to Geocode.xyz API\n",
    "        if 'latt' in response and 'longt' in response:  \n",
    "            return float(response['latt']), float(response['longt'])  # Return the coordinates\n",
    "    except Exception:\n",
    "        return None, None  # Return None in case of an error\n",
    "    return None, None  # Return None if no response\n",
    "\n",
    "# Function to get coordinates using OpenCageData API\n",
    "def get_coordinates_opencage(address):\n",
    "    url = f'https://api.opencagedata.com/geocode/v1/json?q={address}&key=public'  # Construct the URL for OpenCageData API\n",
    "    try:\n",
    "        response = requests.get(url).json()  # Make the request to OpenCageData API\n",
    "        if response['results']:  \n",
    "            return response['results'][0]['geometry']['lat'], response['results'][0]['geometry']['lng']  # Return the coordinates\n",
    "    except Exception:\n",
    "        return None, None  # Return None in case of an error\n",
    "    return None, None  # Return None if no results found\n",
    "\n",
    "# Main function to get coordinates using multiple APIs\n",
    "def get_coordinates(address, geolocator):\n",
    "    lat, lon = get_coordinates_nominatim(address, geolocator)  \n",
    "    if lat is None: \n",
    "        lat, lon = get_coordinates_locationiq(address)\n",
    "    if lat is None:  \n",
    "        lat, lon = get_coordinates_geocode_xyz(address)\n",
    "    if lat is None:  \n",
    "        lat, lon = get_coordinates_opencage(address)\n",
    "    return lat, lon  \n",
    "\n",
    "# Function to process multiple CSV files and add coordinates\n",
    "def process_csv(files, output_path, address_column=\"Adres\"):\n",
    "    df_list = [pd.read_csv(file) for file in files]  \n",
    "    df = pd.concat(df_list, ignore_index=True)  \n",
    "\n",
    "    geolocator = Nominatim(user_agent=\"geo_locator\")  # Create a geolocator instance\n",
    "\n",
    "    # Geocode the addresses and store the latitude and longitude in new columns\n",
    "    df[\"Latitude\"], df[\"Longitude\"] = zip(*df[address_column].apply(lambda x: get_coordinates(x, geolocator)))\n",
    "\n",
    "    # Save the updated DataFrame to a new CSV file\n",
    "    df.to_csv(output_path, index=False)  # Write the DataFrame to a new CSV file without the index column\n",
    "    print(f\"File saved as {output_path}\")  \n"
   ]
  },
  {
   "cell_type": "code",
   "execution_count": null,
   "metadata": {
    "trusted": true
   },
   "outputs": [],
   "source": [
    "# List of input CSV files containing different types of offers (apartments, houses, studios)\n",
    "input_files = [\n",
    "    \"otodom_apartment_offers.csv\",  # Path to the apartment offers file\n",
    "    \"otodom_house_offers.csv\",  # Path to the house offers file\n",
    "    \"otodom_studio_offers.csv\"   # Path to the studio offers file\n",
    "]\n",
    "\n",
    "# Path to the output CSV file where combined results will be saved\n",
    "output_file = \"otodom_offers_coordinates.csv\""
   ]
  },
  {
   "cell_type": "code",
   "execution_count": null,
   "metadata": {
    "trusted": true
   },
   "outputs": [],
   "source": [
    "# Call the 'process_csv' function to process the input files and save the results to the output file\n",
    "process_csv(input_files, output_file)"
   ]
  }
 ],
 "metadata": {
  "kaggle": {
   "accelerator": "none",
   "dataSources": [
    {
     "datasetId": 6796579,
     "sourceId": 10930659,
     "sourceType": "datasetVersion"
    }
   ],
   "dockerImageVersionId": 30918,
   "isGpuEnabled": false,
   "isInternetEnabled": true,
   "language": "python",
   "sourceType": "notebook"
  },
  "kernelspec": {
   "display_name": "Python 3",
   "language": "python",
   "name": "python3"
  },
  "language_info": {
   "codemirror_mode": {
    "name": "ipython",
    "version": 3
   },
   "file_extension": ".py",
   "mimetype": "text/x-python",
   "name": "python",
   "nbconvert_exporter": "python",
   "pygments_lexer": "ipython3",
   "version": "3.10.12"
  }
 },
 "nbformat": 4,
 "nbformat_minor": 4
}
